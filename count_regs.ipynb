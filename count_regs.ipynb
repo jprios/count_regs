{
 "cells": [
  {
   "cell_type": "code",
   "execution_count": 4,
   "id": "1d5801e0",
   "metadata": {},
   "outputs": [
    {
     "name": "stdout",
     "output_type": "stream",
     "text": [
      "Combinations for k = 1: 20\n",
      "Combinations for k = 2: 190\n",
      "Combinations for k = 3: 1140\n",
      "Combinations for k = 4: 4845\n",
      "Combinations for k = 5: 15504\n",
      "Combinations for k = 6: 38760\n",
      "Combinations for k = 7: 77520\n",
      "Combinations for k = 8: 125970\n",
      "Combinations for k = 9: 167960\n",
      "Combinations for k = 10: 184756\n",
      "Combinations for k = 11: 167960\n",
      "Combinations for k = 12: 125970\n",
      "Combinations for k = 13: 77520\n",
      "Combinations for k = 14: 38760\n",
      "Combinations for k = 15: 15504\n",
      "Combinations for k = 16: 4845\n",
      "Combinations for k = 17: 1140\n",
      "Combinations for k = 18: 190\n",
      "Combinations for k = 19: 20\n",
      "Combinations for k = 20: 1\n",
      "----------------------------------------\n",
      "Number of vars to combine: 20\n",
      "Number of extra vars: 1\n",
      "----------------------------------------\n",
      "Number of regressions generated: 1048576\n",
      "Sum of possible combinations: 1048576\n"
     ]
    }
   ],
   "source": [
    "import math\n",
    "from itertools import combinations\n",
    "def count_regs(y, xvars,n_extras = None):\n",
    "    # Lista de fórmulas\n",
    "    fmla_list = []\n",
    "    total_combinations = 0  # Inicialize total_combinations com 0\n",
    "\n",
    "    for k in range(1, len(xvars) + 1):\n",
    "        combs = combinations(xvars, k)\n",
    "        for x in combs:\n",
    "            regr = \" + \".join(x)\n",
    "            fmla = f\"{y} ~ {regr}\"\n",
    "            if regr:\n",
    "                fmla = f\"{y} ~ {regr}\"\n",
    "                fmla_list.append(fmla)\n",
    "\n",
    "    combinations_sum = sum([math.comb(len(xvars), k) for k in range(1, len(xvars) + 1)])\n",
    "\n",
    "    for k in range(1, len(xvars) + 1):\n",
    "        combinations_count = math.comb(len(xvars), k)\n",
    "        total_combinations += combinations_count\n",
    "        print(f\"Combinations for k = {k}: {combinations_count}\")\n",
    "        \n",
    "    print(\"-\"*40)\n",
    "    print(f\"Number of vars to combine: {len(xvars)}\")\n",
    "    print(f\"Number of extra vars: {n_extras}\")\n",
    "    print(\"-\"*40)\n",
    "    if n_extras != None:\n",
    "        print(f\"Number of regressions generated: {len(fmla_list)+n_extras}\")\n",
    "        print(f\"Sum of possible combinations: {combinations_sum+n_extras}\")\n",
    "    else:\n",
    "        print(f\"Number of regressions generated: {len(fmla_list)}\")\n",
    "        print(f\"Sum of possible combinations: {combinations_sum}\")\n",
    "\n",
    "# Exemplo de uso\n",
    "y = 'quantidade'\n",
    "xvars_list = ['pageviews', 'months_from_first_sale', 'day_of_week', 'week_num', 'month',\n",
    "              'avg_competitors_price', 'months_to_fall', 'months_to_winter', 'months_to_spring',\n",
    "              'months_to_summer', 'weeks_to_consumers_day', 'weeks_to_easter_day', 'weeks_to_mothers_day',\n",
    "              'weeks_to_valentines_day', 'weeks_to_fathers_day', 'weeks_to_clients_day', 'weeks_to_children_day',\n",
    "              'weeks_to_black_friday', 'weeks_to_christmas_day', 'buybox_ranking']\n",
    "\n",
    "count_regs(y,xvars_list,n_extras = 1)"
   ]
  }
 ],
 "metadata": {
  "kernelspec": {
   "display_name": "Python 3 (ipykernel)",
   "language": "python",
   "name": "python3"
  },
  "language_info": {
   "codemirror_mode": {
    "name": "ipython",
    "version": 3
   },
   "file_extension": ".py",
   "mimetype": "text/x-python",
   "name": "python",
   "nbconvert_exporter": "python",
   "pygments_lexer": "ipython3",
   "version": "3.9.12"
  }
 },
 "nbformat": 4,
 "nbformat_minor": 5
}
